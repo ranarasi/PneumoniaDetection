{
  "nbformat": 4,
  "nbformat_minor": 0,
  "metadata": {
    "colab": {
      "name": "MobileNet-Classifier-Final.ipynb",
      "provenance": []
    },
    "kernelspec": {
      "name": "python3",
      "display_name": "Python 3"
    },
    "accelerator": "GPU"
  },
  "cells": [
    {
      "cell_type": "markdown",
      "metadata": {
        "id": "uHqo5hj60oxs",
        "colab_type": "text"
      },
      "source": [
        "#Implementing MobileNet Classifier\n",
        "- Objective is to create MobileNet Classifier for chest XRays to predict Pneumonia\n",
        "- Load Train and Test data from saved and pickled data of 15,000 XRays\n",
        "- Create Mobilenet model with imagenet weights with transfer learning and perform partial learning\n",
        "- Tune hyperparameters\n",
        "- Run the model till acceptable prediction accuracy is established.\n",
        "- Make sure to not overfit or underfit"
      ]
    },
    {
      "cell_type": "code",
      "metadata": {
        "id": "vs-GwLuHoRMk",
        "colab_type": "code",
        "colab": {}
      },
      "source": [
        "import numpy as np\n",
        "import pandas as pd"
      ],
      "execution_count": 1,
      "outputs": []
    },
    {
      "cell_type": "code",
      "metadata": {
        "id": "qTaiBzEJoXGa",
        "colab_type": "code",
        "colab": {
          "base_uri": "https://localhost:8080/",
          "height": 34
        },
        "outputId": "a6d27a02-7a21-4d3f-a4c5-6f051d8c0820"
      },
      "source": [
        "import tensorflow\n",
        "import keras\n",
        "from tensorflow.keras.preprocessing.image import ImageDataGenerator\n",
        "from tensorflow.keras.layers import AveragePooling2D\n",
        "from tensorflow.keras.layers import Dropout\n",
        "from tensorflow.keras.layers import Flatten\n",
        "from tensorflow.keras.layers import Dense\n",
        "from tensorflow.keras.models import Model\n",
        "from tensorflow.keras.applications.mobilenet import MobileNet, preprocess_input\n",
        "from tensorflow.keras import optimizers\n",
        "from tensorflow.keras.optimizers import Adam\n",
        "\n",
        "from sklearn.metrics import classification_report\n",
        "from sklearn.metrics import confusion_matrix\n",
        "\n",
        "import random\n",
        "import sklearn\n",
        "import cv2"
      ],
      "execution_count": 2,
      "outputs": [
        {
          "output_type": "stream",
          "text": [
            "Using TensorFlow backend.\n"
          ],
          "name": "stderr"
        }
      ]
    },
    {
      "cell_type": "code",
      "metadata": {
        "id": "VdfOqlrqoXQx",
        "colab_type": "code",
        "colab": {
          "base_uri": "https://localhost:8080/",
          "height": 122
        },
        "outputId": "3f662681-5413-4933-e93e-27b4d1fb599d"
      },
      "source": [
        "from google.colab import drive\n",
        "drive.mount('/content/drive')"
      ],
      "execution_count": 3,
      "outputs": [
        {
          "output_type": "stream",
          "text": [
            "Go to this URL in a browser: https://accounts.google.com/o/oauth2/auth?client_id=947318989803-6bn6qk8qdgf4n4g3pfee6491hc0brc4i.apps.googleusercontent.com&redirect_uri=urn%3aietf%3awg%3aoauth%3a2.0%3aoob&response_type=code&scope=email%20https%3a%2f%2fwww.googleapis.com%2fauth%2fdocs.test%20https%3a%2f%2fwww.googleapis.com%2fauth%2fdrive%20https%3a%2f%2fwww.googleapis.com%2fauth%2fdrive.photos.readonly%20https%3a%2f%2fwww.googleapis.com%2fauth%2fpeopleapi.readonly\n",
            "\n",
            "Enter your authorization code:\n",
            "··········\n",
            "Mounted at /content/drive\n"
          ],
          "name": "stdout"
        }
      ]
    },
    {
      "cell_type": "code",
      "metadata": {
        "id": "bOnh5ErloXlD",
        "colab_type": "code",
        "colab": {
          "base_uri": "https://localhost:8080/",
          "height": 85
        },
        "outputId": "2142de5b-45f2-425a-845a-7fee266d1017"
      },
      "source": [
        "tr_x = \"/content/drive/My Drive/CAPSTONE-PROJECT/rsna/TrainData/Copy of trainX_n.npy\"\n",
        "tr_y = \"/content/drive/My Drive/CAPSTONE-PROJECT/rsna/TrainData/Copy of trainY_n.npy\"\n",
        "t_x = \"/content/drive/My Drive/CAPSTONE-PROJECT/rsna/TrainData/Copy of testX_n.npy\"\n",
        "t_y = \"/content/drive/My Drive/CAPSTONE-PROJECT/rsna/TrainData/Copy of testY_n.npy\"\n",
        "\n",
        "\n",
        "file = open(tr_x, 'rb')\n",
        "trainX = np.load(file)\n",
        "file.close()\n",
        "print(\"Loaded\",tr_x)\n",
        "\n",
        "file = open(tr_y, 'rb')\n",
        "trainY = np.load(file)\n",
        "file.close()\n",
        "print(\"Loaded\",tr_y)\n",
        "\n",
        "file = open(t_x, 'rb')\n",
        "testX = np.load(file)\n",
        "file.close()\n",
        "print(\"Loaded\",t_x)\n",
        "\n",
        "file = open(t_y, 'rb')\n",
        "testY = np.load(file)\n",
        "file.close()\n",
        "print(\"Loaded\",t_y)\n"
      ],
      "execution_count": null,
      "outputs": [
        {
          "output_type": "stream",
          "text": [
            "Loaded /content/drive/My Drive/CAPSTONE-PROJECT/rsna/TrainData/Copy of trainX_n.npy\n",
            "Loaded /content/drive/My Drive/CAPSTONE-PROJECT/rsna/TrainData/Copy of trainY_n.npy\n",
            "Loaded /content/drive/My Drive/CAPSTONE-PROJECT/rsna/TrainData/Copy of testX_n.npy\n",
            "Loaded /content/drive/My Drive/CAPSTONE-PROJECT/rsna/TrainData/Copy of testY_n.npy\n"
          ],
          "name": "stdout"
        }
      ]
    },
    {
      "cell_type": "code",
      "metadata": {
        "id": "63pNoWR1oXuX",
        "colab_type": "code",
        "colab": {}
      },
      "source": [
        "ALPHA = 0.5\n",
        "#hyper params\n",
        "INIT_LR = .001\n",
        "EPOCHS = 10\n",
        "BS = 8\n",
        "opt = Adam(lr=INIT_LR, decay=INIT_LR / EPOCHS)\n",
        "metrics = [\"accuracy\"]"
      ],
      "execution_count": null,
      "outputs": []
    },
    {
      "cell_type": "code",
      "metadata": {
        "id": "2Qiu7IVzoX6P",
        "colab_type": "code",
        "colab": {
          "base_uri": "https://localhost:8080/",
          "height": 1000
        },
        "outputId": "03df6cd0-2491-4e9c-d0ba-564192ddb3ba"
      },
      "source": [
        "base_mobilenet_model = MobileNet(input_shape=(224, 224, 3), include_top=False, alpha=ALPHA, weights=\"imagenet\")\n",
        "headModel = base_mobilenet_model.output\n",
        "headModel = Flatten(name=\"flatten\")(headModel)\n",
        "headModel = Dense(64, activation=\"relu\")(headModel)\n",
        "headModel = Dropout(0.5)(headModel)\n",
        "headModel = Dense(1, activation=\"sigmoid\")(headModel)\n",
        "mobilenet_model = Model(inputs=base_mobilenet_model.input, outputs=headModel)\n",
        "\n",
        "#Train all layers after 10th layer\n",
        "layer_idx = 0\n",
        "for layer in base_mobilenet_model.layers:\n",
        "  if(layer_idx > 10):\n",
        "    layer.trainable = True\n",
        "  else:\n",
        "    layer.trainable = False\n",
        "  layer_idx+=1\n",
        "mobilenet_model.summary()"
      ],
      "execution_count": null,
      "outputs": [
        {
          "output_type": "stream",
          "text": [
            "Downloading data from https://storage.googleapis.com/tensorflow/keras-applications/mobilenet/mobilenet_5_0_224_tf_no_top.h5\n",
            "5578752/5577668 [==============================] - 0s 0us/step\n",
            "Model: \"model\"\n",
            "_________________________________________________________________\n",
            "Layer (type)                 Output Shape              Param #   \n",
            "=================================================================\n",
            "input_1 (InputLayer)         [(None, 224, 224, 3)]     0         \n",
            "_________________________________________________________________\n",
            "conv1_pad (ZeroPadding2D)    (None, 225, 225, 3)       0         \n",
            "_________________________________________________________________\n",
            "conv1 (Conv2D)               (None, 112, 112, 16)      432       \n",
            "_________________________________________________________________\n",
            "conv1_bn (BatchNormalization (None, 112, 112, 16)      64        \n",
            "_________________________________________________________________\n",
            "conv1_relu (ReLU)            (None, 112, 112, 16)      0         \n",
            "_________________________________________________________________\n",
            "conv_dw_1 (DepthwiseConv2D)  (None, 112, 112, 16)      144       \n",
            "_________________________________________________________________\n",
            "conv_dw_1_bn (BatchNormaliza (None, 112, 112, 16)      64        \n",
            "_________________________________________________________________\n",
            "conv_dw_1_relu (ReLU)        (None, 112, 112, 16)      0         \n",
            "_________________________________________________________________\n",
            "conv_pw_1 (Conv2D)           (None, 112, 112, 32)      512       \n",
            "_________________________________________________________________\n",
            "conv_pw_1_bn (BatchNormaliza (None, 112, 112, 32)      128       \n",
            "_________________________________________________________________\n",
            "conv_pw_1_relu (ReLU)        (None, 112, 112, 32)      0         \n",
            "_________________________________________________________________\n",
            "conv_pad_2 (ZeroPadding2D)   (None, 113, 113, 32)      0         \n",
            "_________________________________________________________________\n",
            "conv_dw_2 (DepthwiseConv2D)  (None, 56, 56, 32)        288       \n",
            "_________________________________________________________________\n",
            "conv_dw_2_bn (BatchNormaliza (None, 56, 56, 32)        128       \n",
            "_________________________________________________________________\n",
            "conv_dw_2_relu (ReLU)        (None, 56, 56, 32)        0         \n",
            "_________________________________________________________________\n",
            "conv_pw_2 (Conv2D)           (None, 56, 56, 64)        2048      \n",
            "_________________________________________________________________\n",
            "conv_pw_2_bn (BatchNormaliza (None, 56, 56, 64)        256       \n",
            "_________________________________________________________________\n",
            "conv_pw_2_relu (ReLU)        (None, 56, 56, 64)        0         \n",
            "_________________________________________________________________\n",
            "conv_dw_3 (DepthwiseConv2D)  (None, 56, 56, 64)        576       \n",
            "_________________________________________________________________\n",
            "conv_dw_3_bn (BatchNormaliza (None, 56, 56, 64)        256       \n",
            "_________________________________________________________________\n",
            "conv_dw_3_relu (ReLU)        (None, 56, 56, 64)        0         \n",
            "_________________________________________________________________\n",
            "conv_pw_3 (Conv2D)           (None, 56, 56, 64)        4096      \n",
            "_________________________________________________________________\n",
            "conv_pw_3_bn (BatchNormaliza (None, 56, 56, 64)        256       \n",
            "_________________________________________________________________\n",
            "conv_pw_3_relu (ReLU)        (None, 56, 56, 64)        0         \n",
            "_________________________________________________________________\n",
            "conv_pad_4 (ZeroPadding2D)   (None, 57, 57, 64)        0         \n",
            "_________________________________________________________________\n",
            "conv_dw_4 (DepthwiseConv2D)  (None, 28, 28, 64)        576       \n",
            "_________________________________________________________________\n",
            "conv_dw_4_bn (BatchNormaliza (None, 28, 28, 64)        256       \n",
            "_________________________________________________________________\n",
            "conv_dw_4_relu (ReLU)        (None, 28, 28, 64)        0         \n",
            "_________________________________________________________________\n",
            "conv_pw_4 (Conv2D)           (None, 28, 28, 128)       8192      \n",
            "_________________________________________________________________\n",
            "conv_pw_4_bn (BatchNormaliza (None, 28, 28, 128)       512       \n",
            "_________________________________________________________________\n",
            "conv_pw_4_relu (ReLU)        (None, 28, 28, 128)       0         \n",
            "_________________________________________________________________\n",
            "conv_dw_5 (DepthwiseConv2D)  (None, 28, 28, 128)       1152      \n",
            "_________________________________________________________________\n",
            "conv_dw_5_bn (BatchNormaliza (None, 28, 28, 128)       512       \n",
            "_________________________________________________________________\n",
            "conv_dw_5_relu (ReLU)        (None, 28, 28, 128)       0         \n",
            "_________________________________________________________________\n",
            "conv_pw_5 (Conv2D)           (None, 28, 28, 128)       16384     \n",
            "_________________________________________________________________\n",
            "conv_pw_5_bn (BatchNormaliza (None, 28, 28, 128)       512       \n",
            "_________________________________________________________________\n",
            "conv_pw_5_relu (ReLU)        (None, 28, 28, 128)       0         \n",
            "_________________________________________________________________\n",
            "conv_pad_6 (ZeroPadding2D)   (None, 29, 29, 128)       0         \n",
            "_________________________________________________________________\n",
            "conv_dw_6 (DepthwiseConv2D)  (None, 14, 14, 128)       1152      \n",
            "_________________________________________________________________\n",
            "conv_dw_6_bn (BatchNormaliza (None, 14, 14, 128)       512       \n",
            "_________________________________________________________________\n",
            "conv_dw_6_relu (ReLU)        (None, 14, 14, 128)       0         \n",
            "_________________________________________________________________\n",
            "conv_pw_6 (Conv2D)           (None, 14, 14, 256)       32768     \n",
            "_________________________________________________________________\n",
            "conv_pw_6_bn (BatchNormaliza (None, 14, 14, 256)       1024      \n",
            "_________________________________________________________________\n",
            "conv_pw_6_relu (ReLU)        (None, 14, 14, 256)       0         \n",
            "_________________________________________________________________\n",
            "conv_dw_7 (DepthwiseConv2D)  (None, 14, 14, 256)       2304      \n",
            "_________________________________________________________________\n",
            "conv_dw_7_bn (BatchNormaliza (None, 14, 14, 256)       1024      \n",
            "_________________________________________________________________\n",
            "conv_dw_7_relu (ReLU)        (None, 14, 14, 256)       0         \n",
            "_________________________________________________________________\n",
            "conv_pw_7 (Conv2D)           (None, 14, 14, 256)       65536     \n",
            "_________________________________________________________________\n",
            "conv_pw_7_bn (BatchNormaliza (None, 14, 14, 256)       1024      \n",
            "_________________________________________________________________\n",
            "conv_pw_7_relu (ReLU)        (None, 14, 14, 256)       0         \n",
            "_________________________________________________________________\n",
            "conv_dw_8 (DepthwiseConv2D)  (None, 14, 14, 256)       2304      \n",
            "_________________________________________________________________\n",
            "conv_dw_8_bn (BatchNormaliza (None, 14, 14, 256)       1024      \n",
            "_________________________________________________________________\n",
            "conv_dw_8_relu (ReLU)        (None, 14, 14, 256)       0         \n",
            "_________________________________________________________________\n",
            "conv_pw_8 (Conv2D)           (None, 14, 14, 256)       65536     \n",
            "_________________________________________________________________\n",
            "conv_pw_8_bn (BatchNormaliza (None, 14, 14, 256)       1024      \n",
            "_________________________________________________________________\n",
            "conv_pw_8_relu (ReLU)        (None, 14, 14, 256)       0         \n",
            "_________________________________________________________________\n",
            "conv_dw_9 (DepthwiseConv2D)  (None, 14, 14, 256)       2304      \n",
            "_________________________________________________________________\n",
            "conv_dw_9_bn (BatchNormaliza (None, 14, 14, 256)       1024      \n",
            "_________________________________________________________________\n",
            "conv_dw_9_relu (ReLU)        (None, 14, 14, 256)       0         \n",
            "_________________________________________________________________\n",
            "conv_pw_9 (Conv2D)           (None, 14, 14, 256)       65536     \n",
            "_________________________________________________________________\n",
            "conv_pw_9_bn (BatchNormaliza (None, 14, 14, 256)       1024      \n",
            "_________________________________________________________________\n",
            "conv_pw_9_relu (ReLU)        (None, 14, 14, 256)       0         \n",
            "_________________________________________________________________\n",
            "conv_dw_10 (DepthwiseConv2D) (None, 14, 14, 256)       2304      \n",
            "_________________________________________________________________\n",
            "conv_dw_10_bn (BatchNormaliz (None, 14, 14, 256)       1024      \n",
            "_________________________________________________________________\n",
            "conv_dw_10_relu (ReLU)       (None, 14, 14, 256)       0         \n",
            "_________________________________________________________________\n",
            "conv_pw_10 (Conv2D)          (None, 14, 14, 256)       65536     \n",
            "_________________________________________________________________\n",
            "conv_pw_10_bn (BatchNormaliz (None, 14, 14, 256)       1024      \n",
            "_________________________________________________________________\n",
            "conv_pw_10_relu (ReLU)       (None, 14, 14, 256)       0         \n",
            "_________________________________________________________________\n",
            "conv_dw_11 (DepthwiseConv2D) (None, 14, 14, 256)       2304      \n",
            "_________________________________________________________________\n",
            "conv_dw_11_bn (BatchNormaliz (None, 14, 14, 256)       1024      \n",
            "_________________________________________________________________\n",
            "conv_dw_11_relu (ReLU)       (None, 14, 14, 256)       0         \n",
            "_________________________________________________________________\n",
            "conv_pw_11 (Conv2D)          (None, 14, 14, 256)       65536     \n",
            "_________________________________________________________________\n",
            "conv_pw_11_bn (BatchNormaliz (None, 14, 14, 256)       1024      \n",
            "_________________________________________________________________\n",
            "conv_pw_11_relu (ReLU)       (None, 14, 14, 256)       0         \n",
            "_________________________________________________________________\n",
            "conv_pad_12 (ZeroPadding2D)  (None, 15, 15, 256)       0         \n",
            "_________________________________________________________________\n",
            "conv_dw_12 (DepthwiseConv2D) (None, 7, 7, 256)         2304      \n",
            "_________________________________________________________________\n",
            "conv_dw_12_bn (BatchNormaliz (None, 7, 7, 256)         1024      \n",
            "_________________________________________________________________\n",
            "conv_dw_12_relu (ReLU)       (None, 7, 7, 256)         0         \n",
            "_________________________________________________________________\n",
            "conv_pw_12 (Conv2D)          (None, 7, 7, 512)         131072    \n",
            "_________________________________________________________________\n",
            "conv_pw_12_bn (BatchNormaliz (None, 7, 7, 512)         2048      \n",
            "_________________________________________________________________\n",
            "conv_pw_12_relu (ReLU)       (None, 7, 7, 512)         0         \n",
            "_________________________________________________________________\n",
            "conv_dw_13 (DepthwiseConv2D) (None, 7, 7, 512)         4608      \n",
            "_________________________________________________________________\n",
            "conv_dw_13_bn (BatchNormaliz (None, 7, 7, 512)         2048      \n",
            "_________________________________________________________________\n",
            "conv_dw_13_relu (ReLU)       (None, 7, 7, 512)         0         \n",
            "_________________________________________________________________\n",
            "conv_pw_13 (Conv2D)          (None, 7, 7, 512)         262144    \n",
            "_________________________________________________________________\n",
            "conv_pw_13_bn (BatchNormaliz (None, 7, 7, 512)         2048      \n",
            "_________________________________________________________________\n",
            "conv_pw_13_relu (ReLU)       (None, 7, 7, 512)         0         \n",
            "_________________________________________________________________\n",
            "flatten (Flatten)            (None, 25088)             0         \n",
            "_________________________________________________________________\n",
            "dense (Dense)                (None, 64)                1605696   \n",
            "_________________________________________________________________\n",
            "dropout (Dropout)            (None, 64)                0         \n",
            "_________________________________________________________________\n",
            "dense_1 (Dense)              (None, 1)                 65        \n",
            "=================================================================\n",
            "Total params: 2,435,297\n",
            "Trainable params: 2,423,137\n",
            "Non-trainable params: 12,160\n",
            "_________________________________________________________________\n"
          ],
          "name": "stdout"
        }
      ]
    },
    {
      "cell_type": "code",
      "metadata": {
        "id": "K1KnMpWQQWrr",
        "colab_type": "code",
        "colab": {
          "base_uri": "https://localhost:8080/",
          "height": 394
        },
        "outputId": "4e5b1af0-e0e6-4093-b55d-e3f45e206ade"
      },
      "source": [
        "mobilenet_model.compile(opt, loss=\"binary_crossentropy\", metrics=metrics)\n",
        "mobilenet_model.fit(trainX,trainY,batch_size=BS,epochs=EPOCHS, validation_data=(testX, testY))"
      ],
      "execution_count": null,
      "outputs": [
        {
          "output_type": "stream",
          "text": [
            "Epoch 1/10\n",
            "1200/1200 [==============================] - 40s 33ms/step - loss: 0.6775 - accuracy: 0.6274 - val_loss: 0.4826 - val_accuracy: 0.7708\n",
            "Epoch 2/10\n",
            "1200/1200 [==============================] - 38s 32ms/step - loss: 0.5752 - accuracy: 0.6915 - val_loss: 0.4820 - val_accuracy: 0.7546\n",
            "Epoch 3/10\n",
            "1200/1200 [==============================] - 38s 32ms/step - loss: 0.5711 - accuracy: 0.7021 - val_loss: 0.5139 - val_accuracy: 0.7646\n",
            "Epoch 4/10\n",
            "1200/1200 [==============================] - 38s 32ms/step - loss: 0.5578 - accuracy: 0.7106 - val_loss: 0.5133 - val_accuracy: 0.7454\n",
            "Epoch 5/10\n",
            "1200/1200 [==============================] - 38s 32ms/step - loss: 0.5459 - accuracy: 0.7174 - val_loss: 0.5167 - val_accuracy: 0.7646\n",
            "Epoch 6/10\n",
            "1200/1200 [==============================] - 38s 32ms/step - loss: 0.5385 - accuracy: 0.7278 - val_loss: 0.4825 - val_accuracy: 0.7646\n",
            "Epoch 7/10\n",
            "1200/1200 [==============================] - 38s 32ms/step - loss: 0.5262 - accuracy: 0.7311 - val_loss: 0.4584 - val_accuracy: 0.7842\n",
            "Epoch 8/10\n",
            "1200/1200 [==============================] - 38s 32ms/step - loss: 0.5273 - accuracy: 0.7344 - val_loss: 0.4862 - val_accuracy: 0.7825\n",
            "Epoch 9/10\n",
            "1200/1200 [==============================] - 38s 32ms/step - loss: 0.5036 - accuracy: 0.7477 - val_loss: 0.5090 - val_accuracy: 0.7487\n",
            "Epoch 10/10\n",
            "1200/1200 [==============================] - 38s 32ms/step - loss: 0.4735 - accuracy: 0.7826 - val_loss: 0.4759 - val_accuracy: 0.7704\n"
          ],
          "name": "stdout"
        },
        {
          "output_type": "execute_result",
          "data": {
            "text/plain": [
              "<tensorflow.python.keras.callbacks.History at 0x7f356e9e7208>"
            ]
          },
          "metadata": {
            "tags": []
          },
          "execution_count": 7
        }
      ]
    },
    {
      "cell_type": "code",
      "metadata": {
        "id": "p1fRztEBAfoh",
        "colab_type": "code",
        "colab": {
          "base_uri": "https://localhost:8080/",
          "height": 224
        },
        "outputId": "9a4f913b-a34f-471e-fdfd-239b2eee81f8"
      },
      "source": [
        "mobilenet_model.fit(trainX,trainY,batch_size=BS,epochs=5, validation_data=(testX, testY))"
      ],
      "execution_count": null,
      "outputs": [
        {
          "output_type": "stream",
          "text": [
            "Epoch 1/5\n",
            "1200/1200 [==============================] - 38s 32ms/step - loss: 0.4351 - accuracy: 0.8003 - val_loss: 0.4942 - val_accuracy: 0.7842\n",
            "Epoch 2/5\n",
            "1200/1200 [==============================] - 38s 32ms/step - loss: 0.3776 - accuracy: 0.8240 - val_loss: 0.5691 - val_accuracy: 0.7754\n",
            "Epoch 3/5\n",
            "1200/1200 [==============================] - 38s 32ms/step - loss: 0.3324 - accuracy: 0.8540 - val_loss: 0.7441 - val_accuracy: 0.7671\n",
            "Epoch 4/5\n",
            "1200/1200 [==============================] - 39s 33ms/step - loss: 0.2818 - accuracy: 0.8804 - val_loss: 0.6726 - val_accuracy: 0.7454\n",
            "Epoch 5/5\n",
            "1200/1200 [==============================] - 38s 32ms/step - loss: 0.2300 - accuracy: 0.9059 - val_loss: 0.8388 - val_accuracy: 0.7592\n"
          ],
          "name": "stdout"
        },
        {
          "output_type": "execute_result",
          "data": {
            "text/plain": [
              "<tensorflow.python.keras.callbacks.History at 0x7f3558268198>"
            ]
          },
          "metadata": {
            "tags": []
          },
          "execution_count": 8
        }
      ]
    },
    {
      "cell_type": "code",
      "metadata": {
        "id": "oesw7VBeAu20",
        "colab_type": "code",
        "colab": {
          "base_uri": "https://localhost:8080/",
          "height": 105
        },
        "outputId": "695335e0-a4d9-4d2e-81e4-bd405d1950dc"
      },
      "source": [
        "from tensorflow.keras.models import load_model\n",
        "filename = \"/content/drive/My Drive/CAPSTONE-PROJECT/rsna/mobilenet_Model\"\n",
        "mobilenet_model.save(filename)  "
      ],
      "execution_count": null,
      "outputs": [
        {
          "output_type": "stream",
          "text": [
            "WARNING:tensorflow:From /usr/local/lib/python3.6/dist-packages/tensorflow/python/ops/resource_variable_ops.py:1817: calling BaseResourceVariable.__init__ (from tensorflow.python.ops.resource_variable_ops) with constraint is deprecated and will be removed in a future version.\n",
            "Instructions for updating:\n",
            "If using Keras pass *_constraint arguments to layers.\n",
            "INFO:tensorflow:Assets written to: /content/drive/My Drive/CAPSTONE-PROJECT/rsna/mobilenet_Model/assets\n"
          ],
          "name": "stdout"
        }
      ]
    },
    {
      "cell_type": "code",
      "metadata": {
        "id": "NP4bXRpDAvOI",
        "colab_type": "code",
        "colab": {}
      },
      "source": [
        "from tensorflow.keras.models import load_model\n",
        "filename = \"/content/drive/My Drive/CAPSTONE-PROJECT/rsna/mobilenet_Model\"\n",
        "mobilenet_model= load_model(filename)  # creates a HDF5 file 'my_model.h5'"
      ],
      "execution_count": null,
      "outputs": []
    },
    {
      "cell_type": "code",
      "metadata": {
        "id": "gpCFsZTqIcgz",
        "colab_type": "code",
        "colab": {}
      },
      "source": [
        "from sklearn import metrics\n",
        "y_predict = mobilenet_model.predict(testX)\n",
        "y_predict = np.around(y_predict)"
      ],
      "execution_count": null,
      "outputs": []
    },
    {
      "cell_type": "code",
      "metadata": {
        "id": "1oGNXz__RIEF",
        "colab_type": "code",
        "colab": {
          "base_uri": "https://localhost:8080/",
          "height": 221
        },
        "outputId": "58bcd948-6de0-428b-d23c-58c03ea45a2d"
      },
      "source": [
        "print(metrics.classification_report(testY, y_predict,labels=[0, 1]))\n",
        "cm=metrics.confusion_matrix(testY, y_predict, labels=[0, 1])\n",
        "print(\"Confusion Matrics:\")\n",
        "print(cm)\n"
      ],
      "execution_count": null,
      "outputs": [
        {
          "output_type": "stream",
          "text": [
            "              precision    recall  f1-score   support\n",
            "\n",
            "           0       0.78      0.73      0.75      1200\n",
            "           1       0.74      0.79      0.77      1200\n",
            "\n",
            "    accuracy                           0.76      2400\n",
            "   macro avg       0.76      0.76      0.76      2400\n",
            "weighted avg       0.76      0.76      0.76      2400\n",
            "\n",
            "Confusion Matrics:\n",
            "[[876 324]\n",
            " [254 946]]\n"
          ],
          "name": "stdout"
        }
      ]
    },
    {
      "cell_type": "code",
      "metadata": {
        "id": "ygJoctH_RIMi",
        "colab_type": "code",
        "colab": {
          "base_uri": "https://localhost:8080/",
          "height": 336
        },
        "outputId": "27f38974-4ad5-469b-c2e0-473e0f67f1ac"
      },
      "source": [
        "import seaborn as sns\n",
        "df_cm = pd.DataFrame(cm, index = [i for i in [\"No\",\"Yes\"]],\n",
        "                  columns = [i for i in [\"No\",\"Yes\"]])\n",
        "\n",
        "sns.heatmap(df_cm, annot=True ,fmt='g')\n"
      ],
      "execution_count": null,
      "outputs": [
        {
          "output_type": "stream",
          "text": [
            "/usr/local/lib/python3.6/dist-packages/statsmodels/tools/_testing.py:19: FutureWarning: pandas.util.testing is deprecated. Use the functions in the public API at pandas.testing instead.\n",
            "  import pandas.util.testing as tm\n"
          ],
          "name": "stderr"
        },
        {
          "output_type": "execute_result",
          "data": {
            "text/plain": [
              "<matplotlib.axes._subplots.AxesSubplot at 0x7f34d286eba8>"
            ]
          },
          "metadata": {
            "tags": []
          },
          "execution_count": 12
        },
        {
          "output_type": "display_data",
          "data": {
            "image/png": "[encoded data removed]",
            "text/plain": [
              "<Figure size 432x288 with 2 Axes>"
            ]
          },
          "metadata": {
            "tags": [],
            "needs_background": "light"
          }
        }
      ]
    },
    {
      "cell_type": "markdown",
      "metadata": {
        "id": "75TP16ai2l8I",
        "colab_type": "text"
      },
      "source": [
        "Summary:\n",
        "- The MobileNet Classifier Model has run successfully and shoown good results.\n",
        "- The model for 15 Epochs has given Train Accuracy of 90.5%; Vaildation Accuracy of 75.9%\n",
        "- The Model has predicted the test data with reasonable confidence levels; the confusion matrix has been printed as a heat map.\n",
        "- False Negative has been at 254 out of 1200 predicted as Negative\n",
        "- The has then been saved for future use."
      ]
    }
  ]
}