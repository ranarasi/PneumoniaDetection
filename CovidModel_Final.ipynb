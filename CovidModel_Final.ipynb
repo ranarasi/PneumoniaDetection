{
  "nbformat": 4,
  "nbformat_minor": 0,
  "metadata": {
    "colab": {
      "name": "CovidModel-Final.ipynb",
      "provenance": []
    },
    "kernelspec": {
      "name": "python3",
      "display_name": "Python 3"
    },
    "accelerator": "GPU"
  },
  "cells": [
    {
      "cell_type": "markdown",
      "metadata": {
        "id": "iXqMR0MtBFuZ",
        "colab_type": "text"
      },
      "source": [
        "#Implement an XRay model from the industry\n",
        "- So many AI experts have been building chast XRay models to predict Covid\n",
        "- The objective is to use one such proven model on Covid and train for Pneumonia predictions\n",
        "- Evaluated multipled models and identified a VGG model created by [pyimagesearch](https://)\n",
        "- Load the model\n",
        "- Load test and train\n",
        "- Improve the by training all layers\n",
        "- Check the results"
      ]
    },
    {
      "cell_type": "code",
      "metadata": {
        "id": "JMG7o3hB_-MC",
        "colab_type": "code",
        "colab": {
          "base_uri": "https://localhost:8080/",
          "height": 122
        },
        "outputId": "0c7a70ff-a16d-4ae6-befa-e2f6ca84b9a4"
      },
      "source": [
        "from google.colab import drive\n",
        "drive.mount('/content/drive')"
      ],
      "execution_count": null,
      "outputs": [
        {
          "output_type": "stream",
          "text": [
            "Go to this URL in a browser: https://accounts.google.com/o/oauth2/auth?client_id=947318989803-6bn6qk8qdgf4n4g3pfee6491hc0brc4i.apps.googleusercontent.com&redirect_uri=urn%3aietf%3awg%3aoauth%3a2.0%3aoob&response_type=code&scope=email%20https%3a%2f%2fwww.googleapis.com%2fauth%2fdocs.test%20https%3a%2f%2fwww.googleapis.com%2fauth%2fdrive%20https%3a%2f%2fwww.googleapis.com%2fauth%2fdrive.photos.readonly%20https%3a%2f%2fwww.googleapis.com%2fauth%2fpeopleapi.readonly\n",
            "\n",
            "Enter your authorization code:\n",
            "··········\n",
            "Mounted at /content/drive\n"
          ],
          "name": "stdout"
        }
      ]
    },
    {
      "cell_type": "code",
      "metadata": {
        "id": "KSGAR1kTAEmU",
        "colab_type": "code",
        "colab": {
          "base_uri": "https://localhost:8080/",
          "height": 71
        },
        "outputId": "9438938c-a562-4fc6-e609-08432d31438c"
      },
      "source": [
        "import pandas as pd\n",
        "import numpy as np\n",
        "import matplotlib.pyplot as plt\n",
        "import seaborn as sns\n",
        "%matplotlib inline \n",
        "import pickle as pk\n",
        "import tensorflow\n",
        "\n",
        "base_dir = \"/content/drive/My Drive/CAPSTONE-PROJECT/rsna\"\n",
        "test_dir = base_dir + \"/stage_2_test_images\"\n",
        "train_dir =  base_dir + \"/stage_2_train_images\"\n",
        "converted_imgs_dir = base_dir+\"/convert_train_images1\"\n",
        "models_dir= base_dir+\"/pck\"\n",
        "ext_models_dir = models_dir+\"/external_models\""
      ],
      "execution_count": null,
      "outputs": [
        {
          "output_type": "stream",
          "text": [
            "/usr/local/lib/python3.6/dist-packages/statsmodels/tools/_testing.py:19: FutureWarning: pandas.util.testing is deprecated. Use the functions in the public API at pandas.testing instead.\n",
            "  import pandas.util.testing as tm\n"
          ],
          "name": "stderr"
        }
      ]
    },
    {
      "cell_type": "code",
      "metadata": {
        "id": "DN8cCHUkDxgS",
        "colab_type": "code",
        "colab": {
          "base_uri": "https://localhost:8080/",
          "height": 85
        },
        "outputId": "2053ea10-ff0a-4bc7-8248-90a735f54e4f"
      },
      "source": [
        "#Load Data\n",
        "tr_x = \"/content/drive/My Drive/CAPSTONE-PROJECT/rsna/TrainData/Copy of trainX_n.npy\"\n",
        "tr_y = \"/content/drive/My Drive/CAPSTONE-PROJECT/rsna/TrainData/Copy of trainY_n.npy\"\n",
        "t_x = \"/content/drive/My Drive/CAPSTONE-PROJECT/rsna/TrainData/Copy of testX_n.npy\"\n",
        "t_y = \"/content/drive/My Drive/CAPSTONE-PROJECT/rsna/TrainData/Copy of testY_n.npy\"\n",
        "\n",
        "\n",
        "file = open(tr_x, 'rb')\n",
        "trainX = np.load(file)\n",
        "file.close()\n",
        "print(\"Loaded\",tr_x)\n",
        "\n",
        "file = open(tr_y, 'rb')\n",
        "trainY = np.load(file)\n",
        "file.close()\n",
        "print(\"Loaded\",tr_y)\n",
        "\n",
        "file = open(t_x, 'rb')\n",
        "testX = np.load(file)\n",
        "file.close()\n",
        "print(\"Loaded\",t_x)\n",
        "\n",
        "file = open(t_y, 'rb')\n",
        "testY = np.load(file)\n",
        "file.close()\n",
        "print(\"Loaded\",t_y)\n"
      ],
      "execution_count": null,
      "outputs": [
        {
          "output_type": "stream",
          "text": [
            "Loaded /content/drive/My Drive/CAPSTONE-PROJECT/rsna/TrainData/Copy of trainX_n.npy\n",
            "Loaded /content/drive/My Drive/CAPSTONE-PROJECT/rsna/TrainData/Copy of trainY_n.npy\n",
            "Loaded /content/drive/My Drive/CAPSTONE-PROJECT/rsna/TrainData/Copy of testX_n.npy\n",
            "Loaded /content/drive/My Drive/CAPSTONE-PROJECT/rsna/TrainData/Copy of testY_n.npy\n"
          ],
          "name": "stdout"
        }
      ]
    },
    {
      "cell_type": "code",
      "metadata": {
        "id": "uqukROJ_EvFC",
        "colab_type": "code",
        "colab": {}
      },
      "source": [
        "#hyper params\n",
        "INIT_LR = .001\n",
        "EPOCHS = 10\n",
        "BS = 32\n",
        "opt = tensorflow.keras.optimizers.Adam(lr=INIT_LR, decay=INIT_LR / EPOCHS)\n",
        "loss=\"sparse_categorical_crossentropy\"\n",
        "metrics=['accuracy']"
      ],
      "execution_count": null,
      "outputs": []
    },
    {
      "cell_type": "code",
      "metadata": {
        "id": "_05wx4K8AE2A",
        "colab_type": "code",
        "colab": {
          "base_uri": "https://localhost:8080/",
          "height": 969
        },
        "outputId": "19052a52-1101-4ce1-b914-673a50a808eb"
      },
      "source": [
        "covid_model = tensorflow.keras.models.load_model(\"/content/drive/My Drive/CAPSTONE-PROJECT/rsna/pck/external_models/covid19.model\")\n",
        "covid_model.summary()"
      ],
      "execution_count": null,
      "outputs": [
        {
          "output_type": "stream",
          "text": [
            "Model: \"model\"\n",
            "_________________________________________________________________\n",
            "Layer (type)                 Output Shape              Param #   \n",
            "=================================================================\n",
            "input_1 (InputLayer)         [(None, 224, 224, 3)]     0         \n",
            "_________________________________________________________________\n",
            "block1_conv1 (Conv2D)        (None, 224, 224, 64)      1792      \n",
            "_________________________________________________________________\n",
            "block1_conv2 (Conv2D)        (None, 224, 224, 64)      36928     \n",
            "_________________________________________________________________\n",
            "block1_pool (MaxPooling2D)   (None, 112, 112, 64)      0         \n",
            "_________________________________________________________________\n",
            "block2_conv1 (Conv2D)        (None, 112, 112, 128)     73856     \n",
            "_________________________________________________________________\n",
            "block2_conv2 (Conv2D)        (None, 112, 112, 128)     147584    \n",
            "_________________________________________________________________\n",
            "block2_pool (MaxPooling2D)   (None, 56, 56, 128)       0         \n",
            "_________________________________________________________________\n",
            "block3_conv1 (Conv2D)        (None, 56, 56, 256)       295168    \n",
            "_________________________________________________________________\n",
            "block3_conv2 (Conv2D)        (None, 56, 56, 256)       590080    \n",
            "_________________________________________________________________\n",
            "block3_conv3 (Conv2D)        (None, 56, 56, 256)       590080    \n",
            "_________________________________________________________________\n",
            "block3_pool (MaxPooling2D)   (None, 28, 28, 256)       0         \n",
            "_________________________________________________________________\n",
            "block4_conv1 (Conv2D)        (None, 28, 28, 512)       1180160   \n",
            "_________________________________________________________________\n",
            "block4_conv2 (Conv2D)        (None, 28, 28, 512)       2359808   \n",
            "_________________________________________________________________\n",
            "block4_conv3 (Conv2D)        (None, 28, 28, 512)       2359808   \n",
            "_________________________________________________________________\n",
            "block4_pool (MaxPooling2D)   (None, 14, 14, 512)       0         \n",
            "_________________________________________________________________\n",
            "block5_conv1 (Conv2D)        (None, 14, 14, 512)       2359808   \n",
            "_________________________________________________________________\n",
            "block5_conv2 (Conv2D)        (None, 14, 14, 512)       2359808   \n",
            "_________________________________________________________________\n",
            "block5_conv3 (Conv2D)        (None, 14, 14, 512)       2359808   \n",
            "_________________________________________________________________\n",
            "block5_pool (MaxPooling2D)   (None, 7, 7, 512)         0         \n",
            "_________________________________________________________________\n",
            "average_pooling2d (AveragePo (None, 1, 1, 512)         0         \n",
            "_________________________________________________________________\n",
            "flatten (Flatten)            (None, 512)               0         \n",
            "_________________________________________________________________\n",
            "dense (Dense)                (None, 64)                32832     \n",
            "_________________________________________________________________\n",
            "dropout (Dropout)            (None, 64)                0         \n",
            "_________________________________________________________________\n",
            "dense_1 (Dense)              (None, 2)                 130       \n",
            "=================================================================\n",
            "Total params: 14,747,650\n",
            "Trainable params: 32,962\n",
            "Non-trainable params: 14,714,688\n",
            "_________________________________________________________________\n"
          ],
          "name": "stdout"
        }
      ]
    },
    {
      "cell_type": "code",
      "metadata": {
        "id": "P7XqnXD4AFE5",
        "colab_type": "code",
        "colab": {}
      },
      "source": [
        "for layer in covid_model.layers:\n",
        "\tlayer.trainable = False\n",
        "\n",
        "covid_model.compile(loss=loss, optimizer=opt,metrics=metrics)\n",
        "# loop over all layers in the base model and freeze them so they will\n",
        "# *not* be updated during the first training process\n"
      ],
      "execution_count": null,
      "outputs": []
    },
    {
      "cell_type": "code",
      "metadata": {
        "id": "87h6xjedCFI5",
        "colab_type": "code",
        "colab": {}
      },
      "source": [
        "from tensorflow.keras.preprocessing.image import ImageDataGenerator\n",
        "datagen = ImageDataGenerator() #rotation_range = 15, horizontal_flip = True)\n",
        "generator = datagen.flow(trainX,trainY, batch_size=8,shuffle=True)"
      ],
      "execution_count": null,
      "outputs": []
    },
    {
      "cell_type": "code",
      "metadata": {
        "id": "3pkoZfoTCFUQ",
        "colab_type": "code",
        "colab": {
          "base_uri": "https://localhost:8080/",
          "height": 395
        },
        "outputId": "165c75b2-d74c-4ff1-d39a-fffcb99929be"
      },
      "source": [
        "covid_model.fit(trainX,trainY,epochs=EPOCHS,batch_size=BS,validation_data=(testX, testY))\n",
        "'''\n",
        "history = covid_model.fit_generator(\n",
        "    generator=generator,\n",
        "    epochs=2\n",
        ")\n",
        "'''"
      ],
      "execution_count": null,
      "outputs": [
        {
          "output_type": "stream",
          "text": [
            "Epoch 1/10\n",
            "300/300 [==============================] - 270s 899ms/step - loss: 10308937.0000 - accuracy: 0.6034 - val_loss: 0.5723 - val_accuracy: 0.6979\n",
            "Epoch 2/10\n",
            "300/300 [==============================] - 263s 877ms/step - loss: 0.5924 - accuracy: 0.7043 - val_loss: 0.5530 - val_accuracy: 0.7271\n",
            "Epoch 3/10\n",
            "300/300 [==============================] - 263s 876ms/step - loss: 0.5700 - accuracy: 0.7199 - val_loss: 0.5509 - val_accuracy: 0.7287\n",
            "Epoch 4/10\n",
            "300/300 [==============================] - 263s 876ms/step - loss: 0.5606 - accuracy: 0.7236 - val_loss: 0.5914 - val_accuracy: 0.7138\n",
            "Epoch 5/10\n",
            "300/300 [==============================] - 263s 877ms/step - loss: 0.5551 - accuracy: 0.7330 - val_loss: 0.5369 - val_accuracy: 0.7367\n",
            "Epoch 6/10\n",
            "300/300 [==============================] - 263s 876ms/step - loss: 0.5499 - accuracy: 0.7396 - val_loss: 0.5272 - val_accuracy: 0.7467\n",
            "Epoch 7/10\n",
            "300/300 [==============================] - 263s 876ms/step - loss: 0.5385 - accuracy: 0.7431 - val_loss: 0.5657 - val_accuracy: 0.7246\n",
            "Epoch 8/10\n",
            "300/300 [==============================] - 263s 876ms/step - loss: 0.5361 - accuracy: 0.7441 - val_loss: 0.5251 - val_accuracy: 0.7412\n",
            "Epoch 9/10\n",
            "300/300 [==============================] - 263s 877ms/step - loss: 0.5230 - accuracy: 0.7510 - val_loss: 0.5315 - val_accuracy: 0.7429\n",
            "Epoch 10/10\n",
            "300/300 [==============================] - 264s 879ms/step - loss: 0.5271 - accuracy: 0.7517 - val_loss: 0.5223 - val_accuracy: 0.7458\n"
          ],
          "name": "stdout"
        },
        {
          "output_type": "execute_result",
          "data": {
            "application/vnd.google.colaboratory.intrinsic": {
              "type": "string"
            },
            "text/plain": [
              "'\\nhistory = covid_model.fit_generator(\\n    generator=generator,\\n    epochs=2\\n)\\n'"
            ]
          },
          "metadata": {
            "tags": []
          },
          "execution_count": 11
        }
      ]
    },
    {
      "cell_type": "code",
      "metadata": {
        "id": "AGyYcXraCFaR",
        "colab_type": "code",
        "colab": {}
      },
      "source": [
        "#from tensorflow.keras.models import load_model\n",
        "filename = base_dir+\"/\"+\"covid_model\"\n",
        "covid_model.save(filename)  # creates a HDF5 file 'my_model.h5'\n"
      ],
      "execution_count": null,
      "outputs": []
    },
    {
      "cell_type": "code",
      "metadata": {
        "id": "AFLyXwtICFPN",
        "colab_type": "code",
        "colab": {}
      },
      "source": [
        "#covid_model = load_model('filename')"
      ],
      "execution_count": null,
      "outputs": []
    },
    {
      "cell_type": "code",
      "metadata": {
        "id": "4GyeYY-cCkQU",
        "colab_type": "code",
        "colab": {}
      },
      "source": [
        "from sklearn import metrics\n",
        "y_predict = covid_model.predict(testX)\n",
        "y_predict = np.argmax(y_predict, axis=1)"
      ],
      "execution_count": null,
      "outputs": []
    },
    {
      "cell_type": "code",
      "metadata": {
        "id": "WnA7qlS-CkUQ",
        "colab_type": "code",
        "colab": {}
      },
      "source": [
        ""
      ],
      "execution_count": null,
      "outputs": []
    },
    {
      "cell_type": "code",
      "metadata": {
        "id": "CehLDBtxCkXX",
        "colab_type": "code",
        "colab": {
          "base_uri": "https://localhost:8080/",
          "height": 221
        },
        "outputId": "4be3b643-25f5-45f4-ccc9-adab95665bdc"
      },
      "source": [
        "print(metrics.classification_report(testY, y_predict, labels=[0, 1]))\n",
        "cm=metrics.confusion_matrix(testY, y_predict, labels=[0, 1])\n",
        "print(\"Confusion Matrics:\")\n",
        "cm"
      ],
      "execution_count": null,
      "outputs": [
        {
          "output_type": "stream",
          "text": [
            "              precision    recall  f1-score   support\n",
            "\n",
            "           0       0.74      0.75      0.75      1200\n",
            "           1       0.75      0.74      0.74      1200\n",
            "\n",
            "    accuracy                           0.75      2400\n",
            "   macro avg       0.75      0.75      0.75      2400\n",
            "weighted avg       0.75      0.75      0.75      2400\n",
            "\n",
            "Confusion Matrics:\n"
          ],
          "name": "stdout"
        },
        {
          "output_type": "execute_result",
          "data": {
            "text/plain": [
              "array([[902, 298],\n",
              "       [312, 888]])"
            ]
          },
          "metadata": {
            "tags": []
          },
          "execution_count": 14
        }
      ]
    },
    {
      "cell_type": "code",
      "metadata": {
        "id": "oX-TcqIPCkdK",
        "colab_type": "code",
        "colab": {}
      },
      "source": [
        ""
      ],
      "execution_count": null,
      "outputs": []
    },
    {
      "cell_type": "code",
      "metadata": {
        "id": "ZmD68UASCkg2",
        "colab_type": "code",
        "colab": {
          "base_uri": "https://localhost:8080/",
          "height": 286
        },
        "outputId": "4ea9a42a-edda-4110-bf9e-ac87c2adb0d4"
      },
      "source": [
        "import seaborn as sns\n",
        "df_cm = pd.DataFrame(cm, index = [i for i in [\"No\",\"Yes\"]],\n",
        "                  columns = [i for i in [\"No\",\"Yes\"]])\n",
        "sns.heatmap(df_cm, annot=True ,fmt='g',cmap=\"YlGnBu\")"
      ],
      "execution_count": null,
      "outputs": [
        {
          "output_type": "execute_result",
          "data": {
            "text/plain": [
              "<matplotlib.axes._subplots.AxesSubplot at 0x7f8fe279ca20>"
            ]
          },
          "metadata": {
            "tags": []
          },
          "execution_count": 15
        },
        {
          "output_type": "display_data",
          "data": {
            "image/png": "[encoded data removed]",
            "text/plain": [
              "<Figure size 432x288 with 2 Axes>"
            ]
          },
          "metadata": {
            "tags": [],
            "needs_background": "light"
          }
        }
      ]
    },
    {
      "cell_type": "markdown",
      "metadata": {
        "id": "lSyjgf3MCvcI",
        "colab_type": "text"
      },
      "source": [
        "#Summary\n",
        "- The model performed well in both Test Vaidation and Train\n",
        "- The model did not overfit - performed at uniform levels of accuracy for Train and Validation - Train Accuracy at 75.1% and Validation Accuracy at 74.5%\n",
        "- False Negatives is 312/888 slightly to the higher side compared to other models\n",
        "- The model performed better after making this learn in all layers\n",
        "- sparse corss entropy worked much better as a loss function\n",
        "- Presented the classification report and confusion matrix\n"
      ]
    }
  ]
}