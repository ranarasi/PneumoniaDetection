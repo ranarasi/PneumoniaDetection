{
  "nbformat": 4,
  "nbformat_minor": 0,
  "metadata": {
    "colab": {
      "name": "VGG16Model_Final.ipynb",
      "provenance": []
    },
    "kernelspec": {
      "name": "python3",
      "display_name": "Python 3"
    },
    "accelerator": "GPU"
  },
  "cells": [
    {
      "cell_type": "markdown",
      "metadata": {
        "id": "SXBTtpGQddjr",
        "colab_type": "text"
      },
      "source": [
        "#Implementing VGG Model\n",
        "- Load the train and test data from previously loaded and picked data - about 15,000 records\n",
        "- Create a model with VGG16 using imagenet weights\n",
        "- Enable Full Transfer learning\n",
        "- Try full and partial learning by unfreezing layers and making layer.trainble = True\n",
        "- Configure appropriate Hyperparameters and tune them better results\n",
        "- Run as many epochs to improve the model"
      ]
    },
    {
      "cell_type": "code",
      "metadata": {
        "id": "CENvpqaFrWmb",
        "colab_type": "code",
        "colab": {}
      },
      "source": [
        "import numpy as np\n",
        "import pandas as pd"
      ],
      "execution_count": null,
      "outputs": []
    },
    {
      "cell_type": "code",
      "metadata": {
        "id": "XxtLga2qrcK3",
        "colab_type": "code",
        "colab": {
          "base_uri": "https://localhost:8080/",
          "height": 35
        },
        "outputId": "3301d0d0-11dd-449d-f988-1846be751ed9"
      },
      "source": [
        "import tensorflow\n",
        "import keras\n",
        "import seaborn as sns\n",
        "from sklearn import metrics\n",
        "from tensorflow.keras.preprocessing.image import ImageDataGenerator\n",
        "from tensorflow.keras.layers import AveragePooling2D\n",
        "from tensorflow.keras.layers import Dropout\n",
        "from tensorflow.keras.layers import Flatten\n",
        "from tensorflow.keras.layers import Dense\n",
        "from tensorflow.keras.models import Model\n",
        "from tensorflow.keras.applications import VGG16\n",
        "from tensorflow.keras import optimizers\n",
        "from tensorflow.keras.optimizers import Adam\n",
        "from tensorflow.keras.layers import Input\n",
        "\n",
        "import sklearn\n",
        "from sklearn.metrics import classification_report\n",
        "from sklearn.metrics import confusion_matrix\n",
        "\n"
      ],
      "execution_count": null,
      "outputs": [
        {
          "output_type": "stream",
          "text": [
            "Using TensorFlow backend.\n"
          ],
          "name": "stderr"
        }
      ]
    },
    {
      "cell_type": "code",
      "metadata": {
        "id": "xYorIzO-slZw",
        "colab_type": "code",
        "colab": {
          "base_uri": "https://localhost:8080/",
          "height": 126
        },
        "outputId": "8fc49e08-cc9e-4369-d2c8-2014cf981c69"
      },
      "source": [
        "from google.colab import drive\n",
        "drive.mount('/content/drive')"
      ],
      "execution_count": null,
      "outputs": [
        {
          "output_type": "stream",
          "text": [
            "Go to this URL in a browser: https://accounts.google.com/o/oauth2/auth?client_id=947318989803-6bn6qk8qdgf4n4g3pfee6491hc0brc4i.apps.googleusercontent.com&redirect_uri=urn%3aietf%3awg%3aoauth%3a2.0%3aoob&response_type=code&scope=email%20https%3a%2f%2fwww.googleapis.com%2fauth%2fdocs.test%20https%3a%2f%2fwww.googleapis.com%2fauth%2fdrive%20https%3a%2f%2fwww.googleapis.com%2fauth%2fdrive.photos.readonly%20https%3a%2f%2fwww.googleapis.com%2fauth%2fpeopleapi.readonly\n",
            "\n",
            "Enter your authorization code:\n",
            "··········\n",
            "Mounted at /content/drive\n"
          ],
          "name": "stdout"
        }
      ]
    },
    {
      "cell_type": "code",
      "metadata": {
        "id": "zBrOQ8TsrcOK",
        "colab_type": "code",
        "colab": {
          "base_uri": "https://localhost:8080/",
          "height": 88
        },
        "outputId": "8da5b67c-f752-4f55-f395-f2bb3d66bfef"
      },
      "source": [
        "#Load Data\n",
        "tr_x = \"/content/drive/My Drive/TrainData/CopyNtrainX_n.npy\"\n",
        "tr_y = \"/content/drive/My Drive/TrainData/CopyNtrainY_n.npy\"\n",
        "t_x = \"/content/drive/My Drive/TrainData/CopyNtestX_n.npy\"\n",
        "t_y = \"/content/drive/My Drive/TrainData/CopyNtestY_n.npy\"\n",
        "\n",
        "\n",
        "file = open(tr_x, 'rb')\n",
        "trainX = np.load(file)\n",
        "file.close()\n",
        "print(\"Loaded\",tr_x)\n",
        "\n",
        "file = open(tr_y, 'rb')\n",
        "trainY = np.load(file)\n",
        "file.close()\n",
        "print(\"Loaded\",tr_y)\n",
        "\n",
        "file = open(t_x, 'rb')\n",
        "testX = np.load(file)\n",
        "file.close()\n",
        "print(\"Loaded\",t_x)\n",
        "\n",
        "file = open(t_y, 'rb')\n",
        "testY = np.load(file)\n",
        "file.close()\n",
        "print(\"Loaded\",t_y)\n"
      ],
      "execution_count": null,
      "outputs": [
        {
          "output_type": "stream",
          "text": [
            "Loaded /content/drive/My Drive/TrainData/CopyNtrainX_n.npy\n",
            "Loaded /content/drive/My Drive/TrainData/CopyNtrainY_n.npy\n",
            "Loaded /content/drive/My Drive/TrainData/CopyNtestX_n.npy\n",
            "Loaded /content/drive/My Drive/TrainData/CopyNtestY_n.npy\n"
          ],
          "name": "stdout"
        }
      ]
    },
    {
      "cell_type": "code",
      "metadata": {
        "id": "dpL80NNorcRD",
        "colab_type": "code",
        "colab": {}
      },
      "source": [
        "#hyper params\n",
        "INIT_LR = .0001\n",
        "EPOCHS = 50\n",
        "BS = 32\n",
        "opt = Adam(lr=INIT_LR, decay=INIT_LR / EPOCHS)\n",
        "metrics = [\"accuracy\"]"
      ],
      "execution_count": null,
      "outputs": []
    },
    {
      "cell_type": "code",
      "metadata": {
        "id": "FUVDvcdXrcU4",
        "colab_type": "code",
        "colab": {
          "base_uri": "https://localhost:8080/",
          "height": 977
        },
        "outputId": "59570fb7-19e2-4226-88c2-8cbc8ab0bd14"
      },
      "source": [
        "VGG16_base_model = VGG16(weights=\"imagenet\", include_top=False,input_tensor=Input(shape=(224, 224, 3)))\n",
        "# construct the head of the model that will be placed on top of the\n",
        "# the base model\n",
        "headModel = VGG16_base_model.output\n",
        "headModel = Flatten(name=\"flatten\")(headModel)\n",
        "headModel = Dense(64, activation=\"relu\")(headModel)\n",
        "headModel = Dropout(0.5)(headModel)\n",
        "headModel = Dense(2, activation=\"softmax\")(headModel)\n",
        "\n",
        "VGG16Model = Model(inputs=VGG16_base_model.input, outputs=headModel)\n",
        "\n",
        "for layer in VGG16_base_model.layers:\n",
        "    layer.trainable = False\n",
        "\n",
        "VGG16Model.compile(loss=\"sparse_categorical_crossentropy\", optimizer=opt,metrics=[\"accuracy\"])\n",
        "\n",
        "VGG16Model.summary()"
      ],
      "execution_count": null,
      "outputs": [
        {
          "output_type": "stream",
          "text": [
            "Model: \"model_2\"\n",
            "_________________________________________________________________\n",
            "Layer (type)                 Output Shape              Param #   \n",
            "=================================================================\n",
            "input_3 (InputLayer)         [(None, 224, 224, 3)]     0         \n",
            "_________________________________________________________________\n",
            "block1_conv1 (Conv2D)        (None, 224, 224, 64)      1792      \n",
            "_________________________________________________________________\n",
            "block1_conv2 (Conv2D)        (None, 224, 224, 64)      36928     \n",
            "_________________________________________________________________\n",
            "block1_pool (MaxPooling2D)   (None, 112, 112, 64)      0         \n",
            "_________________________________________________________________\n",
            "block2_conv1 (Conv2D)        (None, 112, 112, 128)     73856     \n",
            "_________________________________________________________________\n",
            "block2_conv2 (Conv2D)        (None, 112, 112, 128)     147584    \n",
            "_________________________________________________________________\n",
            "block2_pool (MaxPooling2D)   (None, 56, 56, 128)       0         \n",
            "_________________________________________________________________\n",
            "block3_conv1 (Conv2D)        (None, 56, 56, 256)       295168    \n",
            "_________________________________________________________________\n",
            "block3_conv2 (Conv2D)        (None, 56, 56, 256)       590080    \n",
            "_________________________________________________________________\n",
            "block3_conv3 (Conv2D)        (None, 56, 56, 256)       590080    \n",
            "_________________________________________________________________\n",
            "block3_pool (MaxPooling2D)   (None, 28, 28, 256)       0         \n",
            "_________________________________________________________________\n",
            "block4_conv1 (Conv2D)        (None, 28, 28, 512)       1180160   \n",
            "_________________________________________________________________\n",
            "block4_conv2 (Conv2D)        (None, 28, 28, 512)       2359808   \n",
            "_________________________________________________________________\n",
            "block4_conv3 (Conv2D)        (None, 28, 28, 512)       2359808   \n",
            "_________________________________________________________________\n",
            "block4_pool (MaxPooling2D)   (None, 14, 14, 512)       0         \n",
            "_________________________________________________________________\n",
            "block5_conv1 (Conv2D)        (None, 14, 14, 512)       2359808   \n",
            "_________________________________________________________________\n",
            "block5_conv2 (Conv2D)        (None, 14, 14, 512)       2359808   \n",
            "_________________________________________________________________\n",
            "block5_conv3 (Conv2D)        (None, 14, 14, 512)       2359808   \n",
            "_________________________________________________________________\n",
            "block5_pool (MaxPooling2D)   (None, 7, 7, 512)         0         \n",
            "_________________________________________________________________\n",
            "flatten (Flatten)            (None, 25088)             0         \n",
            "_________________________________________________________________\n",
            "dense_4 (Dense)              (None, 64)                1605696   \n",
            "_________________________________________________________________\n",
            "dropout_2 (Dropout)          (None, 64)                0         \n",
            "_________________________________________________________________\n",
            "dense_5 (Dense)              (None, 2)                 130       \n",
            "=================================================================\n",
            "Total params: 16,320,514\n",
            "Trainable params: 1,605,826\n",
            "Non-trainable params: 14,714,688\n",
            "_________________________________________________________________\n"
          ],
          "name": "stdout"
        }
      ]
    },
    {
      "cell_type": "code",
      "metadata": {
        "id": "Cf2PCnHurckL",
        "colab_type": "code",
        "colab": {
          "base_uri": "https://localhost:8080/",
          "height": 1000
        },
        "outputId": "e6186aae-7811-4080-93a0-a048a9bebd2b"
      },
      "source": [
        "VGG16Model.fit(trainX,trainY,epochs=EPOCHS,batch_size=BS,validation_data=(testX, testY))"
      ],
      "execution_count": null,
      "outputs": [
        {
          "output_type": "stream",
          "text": [
            "Epoch 1/50\n",
            "300/300 [==============================] - 31s 103ms/step - loss: 0.5762 - accuracy: 0.7070 - val_loss: 0.5174 - val_accuracy: 0.7525\n",
            "Epoch 2/50\n",
            "300/300 [==============================] - 31s 102ms/step - loss: 0.5281 - accuracy: 0.7449 - val_loss: 0.5128 - val_accuracy: 0.7504\n",
            "Epoch 3/50\n",
            "300/300 [==============================] - 31s 102ms/step - loss: 0.5167 - accuracy: 0.7518 - val_loss: 0.5048 - val_accuracy: 0.7525\n",
            "Epoch 4/50\n",
            "300/300 [==============================] - 31s 102ms/step - loss: 0.5068 - accuracy: 0.7564 - val_loss: 0.5119 - val_accuracy: 0.7513\n",
            "Epoch 5/50\n",
            "300/300 [==============================] - 31s 102ms/step - loss: 0.5009 - accuracy: 0.7644 - val_loss: 0.5168 - val_accuracy: 0.7487\n",
            "Epoch 6/50\n",
            "300/300 [==============================] - 30s 101ms/step - loss: 0.4907 - accuracy: 0.7642 - val_loss: 0.4964 - val_accuracy: 0.7575\n",
            "Epoch 7/50\n",
            "300/300 [==============================] - 30s 102ms/step - loss: 0.4873 - accuracy: 0.7682 - val_loss: 0.4974 - val_accuracy: 0.7654\n",
            "Epoch 8/50\n",
            "300/300 [==============================] - 30s 102ms/step - loss: 0.4787 - accuracy: 0.7732 - val_loss: 0.4959 - val_accuracy: 0.7604\n",
            "Epoch 9/50\n",
            "300/300 [==============================] - 30s 102ms/step - loss: 0.4793 - accuracy: 0.7741 - val_loss: 0.4960 - val_accuracy: 0.7638\n",
            "Epoch 10/50\n",
            "300/300 [==============================] - 30s 101ms/step - loss: 0.4697 - accuracy: 0.7825 - val_loss: 0.4966 - val_accuracy: 0.7604\n",
            "Epoch 11/50\n",
            "300/300 [==============================] - 30s 101ms/step - loss: 0.4674 - accuracy: 0.7802 - val_loss: 0.4936 - val_accuracy: 0.7621\n",
            "Epoch 12/50\n",
            "300/300 [==============================] - 30s 101ms/step - loss: 0.4642 - accuracy: 0.7802 - val_loss: 0.4956 - val_accuracy: 0.7617\n",
            "Epoch 13/50\n",
            "300/300 [==============================] - 31s 102ms/step - loss: 0.4547 - accuracy: 0.7807 - val_loss: 0.4956 - val_accuracy: 0.7638\n",
            "Epoch 14/50\n",
            "300/300 [==============================] - 30s 101ms/step - loss: 0.4517 - accuracy: 0.7888 - val_loss: 0.4927 - val_accuracy: 0.7625\n",
            "Epoch 15/50\n",
            "300/300 [==============================] - 30s 101ms/step - loss: 0.4463 - accuracy: 0.7887 - val_loss: 0.4930 - val_accuracy: 0.7596\n",
            "Epoch 16/50\n",
            "300/300 [==============================] - 30s 101ms/step - loss: 0.4425 - accuracy: 0.7920 - val_loss: 0.5012 - val_accuracy: 0.7604\n",
            "Epoch 17/50\n",
            "300/300 [==============================] - 30s 101ms/step - loss: 0.4436 - accuracy: 0.7905 - val_loss: 0.5008 - val_accuracy: 0.7592\n",
            "Epoch 18/50\n",
            "300/300 [==============================] - 30s 101ms/step - loss: 0.4339 - accuracy: 0.7979 - val_loss: 0.4964 - val_accuracy: 0.7646\n",
            "Epoch 19/50\n",
            "300/300 [==============================] - 30s 101ms/step - loss: 0.4308 - accuracy: 0.7995 - val_loss: 0.5040 - val_accuracy: 0.7629\n",
            "Epoch 20/50\n",
            "300/300 [==============================] - 30s 101ms/step - loss: 0.4222 - accuracy: 0.7993 - val_loss: 0.5006 - val_accuracy: 0.7625\n",
            "Epoch 21/50\n",
            "300/300 [==============================] - 30s 101ms/step - loss: 0.4173 - accuracy: 0.8025 - val_loss: 0.4993 - val_accuracy: 0.7663\n",
            "Epoch 22/50\n",
            "300/300 [==============================] - 30s 101ms/step - loss: 0.4181 - accuracy: 0.8041 - val_loss: 0.5019 - val_accuracy: 0.7646\n",
            "Epoch 23/50\n",
            "300/300 [==============================] - 30s 101ms/step - loss: 0.4109 - accuracy: 0.8065 - val_loss: 0.5098 - val_accuracy: 0.7646\n",
            "Epoch 24/50\n",
            "300/300 [==============================] - 30s 101ms/step - loss: 0.4052 - accuracy: 0.8078 - val_loss: 0.5041 - val_accuracy: 0.7633\n",
            "Epoch 25/50\n",
            "300/300 [==============================] - 30s 101ms/step - loss: 0.4011 - accuracy: 0.8095 - val_loss: 0.4974 - val_accuracy: 0.7633\n",
            "Epoch 26/50\n",
            "300/300 [==============================] - 30s 101ms/step - loss: 0.3916 - accuracy: 0.8109 - val_loss: 0.5052 - val_accuracy: 0.7625\n",
            "Epoch 27/50\n",
            "300/300 [==============================] - 30s 101ms/step - loss: 0.3908 - accuracy: 0.8125 - val_loss: 0.5251 - val_accuracy: 0.7633\n",
            "Epoch 28/50\n",
            "300/300 [==============================] - 30s 101ms/step - loss: 0.3789 - accuracy: 0.8196 - val_loss: 0.5247 - val_accuracy: 0.7613\n",
            "Epoch 29/50\n",
            "300/300 [==============================] - 30s 101ms/step - loss: 0.3783 - accuracy: 0.8192 - val_loss: 0.5141 - val_accuracy: 0.7646\n",
            "Epoch 30/50\n",
            "300/300 [==============================] - 30s 101ms/step - loss: 0.3785 - accuracy: 0.8163 - val_loss: 0.5119 - val_accuracy: 0.7608\n",
            "Epoch 31/50\n",
            "300/300 [==============================] - 30s 101ms/step - loss: 0.3720 - accuracy: 0.8203 - val_loss: 0.5193 - val_accuracy: 0.7613\n",
            "Epoch 32/50\n",
            "300/300 [==============================] - 30s 101ms/step - loss: 0.3674 - accuracy: 0.8244 - val_loss: 0.5255 - val_accuracy: 0.7613\n",
            "Epoch 33/50\n",
            "300/300 [==============================] - 30s 101ms/step - loss: 0.3620 - accuracy: 0.8256 - val_loss: 0.5284 - val_accuracy: 0.7608\n",
            "Epoch 34/50\n",
            "300/300 [==============================] - 30s 101ms/step - loss: 0.3492 - accuracy: 0.8288 - val_loss: 0.5475 - val_accuracy: 0.7588\n",
            "Epoch 35/50\n",
            "300/300 [==============================] - 30s 101ms/step - loss: 0.3499 - accuracy: 0.8291 - val_loss: 0.5515 - val_accuracy: 0.7542\n",
            "Epoch 36/50\n",
            "300/300 [==============================] - 30s 102ms/step - loss: 0.3436 - accuracy: 0.8305 - val_loss: 0.5321 - val_accuracy: 0.7600\n",
            "Epoch 37/50\n",
            "300/300 [==============================] - 30s 101ms/step - loss: 0.3324 - accuracy: 0.8370 - val_loss: 0.5551 - val_accuracy: 0.7638\n",
            "Epoch 38/50\n",
            "300/300 [==============================] - 30s 101ms/step - loss: 0.3345 - accuracy: 0.8409 - val_loss: 0.5520 - val_accuracy: 0.7650\n",
            "Epoch 39/50\n",
            "300/300 [==============================] - 30s 101ms/step - loss: 0.3291 - accuracy: 0.8350 - val_loss: 0.5477 - val_accuracy: 0.7617\n",
            "Epoch 40/50\n",
            "300/300 [==============================] - 30s 101ms/step - loss: 0.3232 - accuracy: 0.8423 - val_loss: 0.5673 - val_accuracy: 0.7575\n",
            "Epoch 41/50\n",
            "300/300 [==============================] - 30s 101ms/step - loss: 0.3198 - accuracy: 0.8427 - val_loss: 0.5673 - val_accuracy: 0.7600\n",
            "Epoch 42/50\n",
            "300/300 [==============================] - 30s 101ms/step - loss: 0.3147 - accuracy: 0.8447 - val_loss: 0.5572 - val_accuracy: 0.7621\n",
            "Epoch 43/50\n",
            "300/300 [==============================] - 30s 101ms/step - loss: 0.3127 - accuracy: 0.8424 - val_loss: 0.5947 - val_accuracy: 0.7583\n",
            "Epoch 44/50\n",
            "300/300 [==============================] - 30s 102ms/step - loss: 0.3092 - accuracy: 0.8475 - val_loss: 0.6026 - val_accuracy: 0.7613\n",
            "Epoch 45/50\n",
            "300/300 [==============================] - 30s 101ms/step - loss: 0.2994 - accuracy: 0.8503 - val_loss: 0.6161 - val_accuracy: 0.7658\n",
            "Epoch 46/50\n",
            "300/300 [==============================] - 30s 101ms/step - loss: 0.3001 - accuracy: 0.8506 - val_loss: 0.5801 - val_accuracy: 0.7588\n",
            "Epoch 47/50\n",
            "300/300 [==============================] - 30s 101ms/step - loss: 0.2921 - accuracy: 0.8537 - val_loss: 0.6118 - val_accuracy: 0.7596\n",
            "Epoch 48/50\n",
            "300/300 [==============================] - 30s 101ms/step - loss: 0.2852 - accuracy: 0.8566 - val_loss: 0.6075 - val_accuracy: 0.7575\n",
            "Epoch 49/50\n",
            "300/300 [==============================] - 30s 101ms/step - loss: 0.2846 - accuracy: 0.8564 - val_loss: 0.6367 - val_accuracy: 0.7621\n",
            "Epoch 50/50\n",
            "300/300 [==============================] - 30s 101ms/step - loss: 0.2844 - accuracy: 0.8599 - val_loss: 0.6286 - val_accuracy: 0.7608\n"
          ],
          "name": "stdout"
        },
        {
          "output_type": "execute_result",
          "data": {
            "text/plain": [
              "<tensorflow.python.keras.callbacks.History at 0x7fc5fa2a9da0>"
            ]
          },
          "metadata": {
            "tags": []
          },
          "execution_count": 18
        }
      ]
    },
    {
      "cell_type": "code",
      "metadata": {
        "id": "smZTLslprctL",
        "colab_type": "code",
        "colab": {}
      },
      "source": [
        "y_predict = VGG16Model.predict(testX)\n",
        "y_predict = np.argmax(y_predict, axis=1)"
      ],
      "execution_count": null,
      "outputs": []
    },
    {
      "cell_type": "code",
      "metadata": {
        "id": "BgwwXB2GrcZA",
        "colab_type": "code",
        "colab": {
          "base_uri": "https://localhost:8080/",
          "height": 70
        },
        "outputId": "91050cd4-ecc0-4f1c-ec65-abf3c2333dde"
      },
      "source": [
        "#metrics.classification_report\n",
        "cm=metrics.confusion_matrix(testY, y_predict, labels=[0, 1])\n",
        "print(\"Confusion Matrics:\")\n",
        "cm"
      ],
      "execution_count": null,
      "outputs": [
        {
          "output_type": "stream",
          "text": [
            "Confusion Matrics:\n"
          ],
          "name": "stdout"
        },
        {
          "output_type": "execute_result",
          "data": {
            "text/plain": [
              "array([[898, 302],\n",
              "       [272, 928]])"
            ]
          },
          "metadata": {
            "tags": []
          },
          "execution_count": 23
        }
      ]
    },
    {
      "cell_type": "code",
      "metadata": {
        "id": "mbJhLHvNLbqw",
        "colab_type": "code",
        "colab": {
          "base_uri": "https://localhost:8080/",
          "height": 283
        },
        "outputId": "170f38ad-34d1-4fc7-f2e8-f861f4b886f1"
      },
      "source": [
        "df_cm = pd.DataFrame(cm, index = [i for i in [\"No\",\"Yes\"]],\n",
        "                  columns = [i for i in [\"No\",\"Yes\"]])\n",
        "sns.heatmap(df_cm, annot=True ,fmt='g')"
      ],
      "execution_count": null,
      "outputs": [
        {
          "output_type": "execute_result",
          "data": {
            "text/plain": [
              "<matplotlib.axes._subplots.AxesSubplot at 0x7fc5fa16cb38>"
            ]
          },
          "metadata": {
            "tags": []
          },
          "execution_count": 25
        },
        {
          "output_type": "display_data",
          "data": {
            "image/png": "[encoded data removed]",
            "text/plain": [
              "<Figure size 432x288 with 2 Axes>"
            ]
          },
          "metadata": {
            "tags": [],
            "needs_background": "light"
          }
        }
      ]
    },
    {
      "cell_type": "code",
      "metadata": {
        "id": "mp8tOj1Z4emB",
        "colab_type": "code",
        "colab": {
          "base_uri": "https://localhost:8080/",
          "height": 35
        },
        "outputId": "a2b74db8-47f3-4532-ee39-c9ca9728582b"
      },
      "source": [
        "VGG16Model.save('/content/drive/My Drive/CAPSTONE-PROJECT/dev/VGG16Model')\n"
      ],
      "execution_count": null,
      "outputs": [
        {
          "output_type": "stream",
          "text": [
            "INFO:tensorflow:Assets written to: /content/drive/My Drive/TrainData/VGG16Model/assets\n"
          ],
          "name": "stdout"
        }
      ]
    },
    {
      "cell_type": "markdown",
      "metadata": {
        "id": "SDotCKeNftHW",
        "colab_type": "text"
      },
      "source": [
        "#Summary\n",
        "- The Model has trained well with good Train and validation accuracy\n",
        "- Tuned various hyper parameters and set them at the optimum levels\n",
        "- Tried partial learning and full learning, did not see any major improvement, so retained as trainable=False.\n",
        "- Ran for 10-20-30-40-50 epochs\n",
        "- The Model has shown 86% Training accuracy and 76% Validation data Accuracy\n",
        "- The model has shown 272/1200 of False Negatives\n",
        "- Displayed Classification report and Confusion matrix to check the performance of the model\n",
        "- Saved the model \n",
        "- Loaded the model and checked if working fine\n"
      ]
    }
  ]
}